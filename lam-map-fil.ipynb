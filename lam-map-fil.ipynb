{
 "cells": [
  {
   "cell_type": "code",
   "execution_count": null,
   "metadata": {},
   "outputs": [],
   "source": [
    "# python programme to sort list of tuples based on the integers value using lambda function\n",
    "players = [(\"jack kallis\",25534),(\"sachin tendulkar\",34357),(\"virat kohli\",24936),(\"Ricky ponting\",27483)]\n",
    "sort_players = sorted(players, key = lambda x: x[1])\n",
    "for index,item in enumerate(sort_players):\n",
    "    print(index,\" :\",item)"
   ]
  }
 ],
 "metadata": {
  "kernelspec": {
   "display_name": "Python 3",
   "language": "python",
   "name": "python3"
  },
  "language_info": {
   "codemirror_mode": {
    "name": "ipython",
    "version": 3
   },
   "file_extension": ".py",
   "mimetype": "text/x-python",
   "name": "python",
   "nbconvert_exporter": "python",
   "pygments_lexer": "ipython3",
   "version": "3.12.3"
  }
 },
 "nbformat": 4,
 "nbformat_minor": 2
}
